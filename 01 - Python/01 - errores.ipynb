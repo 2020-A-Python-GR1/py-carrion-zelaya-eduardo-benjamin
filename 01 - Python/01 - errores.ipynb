{
 "cells": [
  {
   "cell_type": "code",
   "execution_count": 1,
   "metadata": {},
   "outputs": [],
   "source": [
    "#NameError setadasdagS \n",
    "#SyntaxError shadssadl safkjsaf\n",
    "#ZeroDivisionError 0/0\n",
    "#a = {'b':'b'}\n",
    "#a['c'] KeyError"
   ]
  },
  {
   "cell_type": "code",
   "execution_count": 19,
   "metadata": {},
   "outputs": [
    {
     "name": "stdout",
     "output_type": "stream",
     "text": [
      "nameError, variable no declarada\n"
     ]
    }
   ],
   "source": [
    "try: \n",
    "    #setadasdagS #NameError \n",
    "    #0/0 #ZeroDivisionError\n",
    "    #a = {'b':'b'}\n",
    "    #a['c'] #KeyError\n",
    "except NameError as nameError:\n",
    "    print(\"nameError, variable no declarada\")\n",
    "except (ZeroDivisionError, KeyError) as errorComun:\n",
    "    print(\"Error comun en python\")\n",
    "except Exception as error:\n",
    "    print(error)"
   ]
  },
  {
   "cell_type": "code",
   "execution_count": null,
   "metadata": {},
   "outputs": [],
   "source": []
  },
  {
   "cell_type": "code",
   "execution_count": null,
   "metadata": {},
   "outputs": [],
   "source": []
  },
  {
   "cell_type": "code",
   "execution_count": null,
   "metadata": {},
   "outputs": [],
   "source": []
  },
  {
   "cell_type": "code",
   "execution_count": null,
   "metadata": {},
   "outputs": [],
   "source": []
  }
 ],
 "metadata": {
  "kernelspec": {
   "display_name": "Python 3",
   "language": "python",
   "name": "python3"
  },
  "language_info": {
   "codemirror_mode": {
    "name": "ipython",
    "version": 3
   },
   "file_extension": ".py",
   "mimetype": "text/x-python",
   "name": "python",
   "nbconvert_exporter": "python",
   "pygments_lexer": "ipython3",
   "version": "3.8.5"
  }
 },
 "nbformat": 4,
 "nbformat_minor": 4
}
