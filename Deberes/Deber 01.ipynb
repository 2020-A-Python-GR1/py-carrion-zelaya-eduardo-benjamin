{
 "cells": [
  {
   "cell_type": "code",
   "execution_count": 1,
   "metadata": {},
   "outputs": [],
   "source": [
    "import pprint\n",
    "import ast\n",
    "\n",
    "try:\n",
    "    with open(\"dict.txt\", \"r\") as file:\n",
    "        laboratorios = ast.literal_eval(file.read())\n",
    "        file.close()\n",
    "except Exception as Error:\n",
    "    print(\"Error leyendo archivo\")    \n"
   ]
  },
  {
   "cell_type": "code",
   "execution_count": 2,
   "metadata": {},
   "outputs": [],
   "source": [
    "affirmative_statements = ['yes', 'si', 'SI', 's', 'S', 'sI','y', 'YES']\n",
    "\n",
    "def funciones(valor):\n",
    "\n",
    "    def show_labs():\n",
    "        pprint.pprint(laboratorios)\n",
    "###############################################################################################\n",
    "\n",
    "    def create ():\n",
    "        nombre = input(\"Nombre para el laboratorio\")\n",
    "        num_equipos = int(input('Cantidad de equipos'))\n",
    "        costo_seguro = float(input('Costo del seguro'))\n",
    "        encargado = input('Nombre de la persona encargada')\n",
    "        internet = input('El laboratorio tiene internet')\n",
    "        if internet in affirmative_statements:\n",
    "            internet = True\n",
    "        else:\n",
    "            internet = False\n",
    "        laboratorios[nombre] = { 'numero_de_equipos': num_equipos, \n",
    "        'costo seguro': costo_seguro,\n",
    "        'encargado': encargado,\n",
    "        'internet': internet }\n",
    "###############################################################################################\n",
    "    def update():\n",
    "        print('Que laboratorio desea actualizar')\n",
    "        lab = input()\n",
    "        print('Que atributo desea editar')\n",
    "        print('1) Cantidad de equipos')\n",
    "        print('2) Costo del seguro')\n",
    "        print('3) Encargado')\n",
    "        print('4) internet')\n",
    "        opcion = input()\n",
    "        if opcion == '1':\n",
    "            print('Ingrese nueva cantidad de equipos')\n",
    "            num_equipos = int(input('Enquipos:'))\n",
    "            laboratorios[lab]['numero_de_equipos'] = num_equipos\n",
    "        elif  opcion == '2':\n",
    "            print('Ingrese costo actual del seguro')\n",
    "            costo_seguro = float(input('Costo:'))\n",
    "            laboratorios[lab]['costo seguro'] = costo_seguro\n",
    "        elif  opcion == '3':\n",
    "            print('Ingrese nombre del nuevo encargado del laboratorio')\n",
    "            encargado = input('Encargado:')\n",
    "            laboratorios[lab]['encargado'] = encargado\n",
    "        elif  opcion == '4':\n",
    "            print('Cuenta con conexion a internet el laboratorio')\n",
    "            internet = input('Si/No')\n",
    "            if internet in affirmative_statements:\n",
    "                internet = True\n",
    "            else:\n",
    "                internet = False\n",
    "            laboratorios[lab]['internet'] = encargado\n",
    "\n",
    "        pprint.pprint(laboratorios[lab])\n",
    "\n",
    "###############################################################################################\n",
    "\n",
    "    def delete():\n",
    "        print('Que laboratorio desea descartar')\n",
    "        nombre = input()\n",
    "        del laboratorios[nombre]\n",
    "        pprint.pprint(laboratorios)\n",
    "    def devolver_respuesta():\n",
    "        opciones = {\n",
    "            \"1\": show_labs,\n",
    "            \"2\": create,\n",
    "            \"3\": update,\n",
    "            \"4\": delete\n",
    "        }\n",
    "        \n",
    "        return opciones[valor]()\n",
    "    \n",
    "    return devolver_respuesta()"
   ]
  },
  {
   "cell_type": "code",
   "execution_count": 7,
   "metadata": {},
   "outputs": [
    {
     "name": "stdout",
     "output_type": "stream",
     "text": [
      "Que desea realizar\n",
      "1) Mostrar todos los laboratorios\n",
      "2) Agregar un nuevo laboratorio\n",
      "3) Actualizar informacion de un laboratorio\n",
      "4) Eliminar un laboratorio\n",
      "4\n",
      "Que laboratorio desea descartar\n",
      "Alfa\n",
      "{'Beta': {'costo seguro': 12.4,\n",
      "          'encargado': 'Alberto Moran',\n",
      "          'internet': True,\n",
      "          'numero_de_equipos': 12},\n",
      " 'Gamma': {'costo seguro': 999.99,\n",
      "           'encargado': 'Juan Cordova',\n",
      "           'internet': False,\n",
      "           'numero_de_equipos': 6}}\n"
     ]
    }
   ],
   "source": [
    "print('Que desea realizar')\n",
    "print('1) Mostrar todos los laboratorios')    \n",
    "print('2) Agregar un nuevo laboratorio')\n",
    "print('3) Actualizar informacion de un laboratorio')\n",
    "print('4) Eliminar un laboratorio')\n",
    "entrada = input()\n",
    "funciones(entrada)\n",
    "f = open(\"dict.txt\",\"w\")\n",
    "f.write( str(laboratorios) )\n",
    "f.close()"
   ]
  },
  {
   "cell_type": "code",
   "execution_count": null,
   "metadata": {},
   "outputs": [],
   "source": []
  },
  {
   "cell_type": "code",
   "execution_count": null,
   "metadata": {},
   "outputs": [],
   "source": []
  },
  {
   "cell_type": "code",
   "execution_count": null,
   "metadata": {},
   "outputs": [],
   "source": []
  }
 ],
 "metadata": {
  "kernelspec": {
   "display_name": "Python 3",
   "language": "python",
   "name": "python3"
  },
  "language_info": {
   "codemirror_mode": {
    "name": "ipython",
    "version": 3
   },
   "file_extension": ".py",
   "mimetype": "text/x-python",
   "name": "python",
   "nbconvert_exporter": "python",
   "pygments_lexer": "ipython3",
   "version": "3.7.6"
  }
 },
 "nbformat": 4,
 "nbformat_minor": 4
}
