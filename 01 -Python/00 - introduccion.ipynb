{
 "cells": [
  {
   "cell_type": "markdown",
   "metadata": {},
   "source": [
    "# Titulo 1\n",
    "## Titulo 2"
   ]
  },
  {
   "cell_type": "code",
   "execution_count": 5,
   "metadata": {},
   "outputs": [
    {
     "name": "stdout",
     "output_type": "stream",
     "text": [
      "Hola mundo\n"
     ]
    }
   ],
   "source": [
    "print (\"Hola mundo\")"
   ]
  },
  {
   "cell_type": "code",
   "execution_count": 4,
   "metadata": {},
   "outputs": [
    {
     "name": "stdout",
     "output_type": "stream",
     "text": [
      "<class 'int'>\n",
      "<class 'float'>\n",
      "<class 'str'>\n",
      "<class 'str'>\n",
      "<class 'bool'>\n",
      "<class 'bool'>\n",
      "<class 'NoneType'>\n"
     ]
    }
   ],
   "source": [
    "# No tipado!\n",
    "# Variables primitivas\n",
    "enteros = 4\n",
    "decimales = 1.1\n",
    "nombre = \"Eduardo\"\n",
    "segundo_nombre = \"Benjamin\" #segundoNombre X -> MAL\n",
    "casado = False\n",
    "estudiante = True\n",
    "hijos = None\n",
    "print(type(enteros)) # int\n",
    "print(type(decimales)) # float\n",
    "print(type(nombre)) # str\n",
    "print(type(segundo_nombre)) # srt\n",
    "print(type(casado)) # bool\n",
    "print(type(estudiante)) # bool\n",
    "print(type(hijos)) # NoneType\n"
   ]
  },
  {
   "cell_type": "code",
   "execution_count": 10,
   "metadata": {},
   "outputs": [
    {
     "name": "stdout",
     "output_type": "stream",
     "text": [
      "\n",
      "Lorem ipsum dolor sit amet, consectetur adipiscing elit, sed do eiusmod tempor incididunt ut labore et dolore magna aliqua. Ut enim ad minim veniam, quis nostrud exercitation ullamco laboris nisi ut aliquip ex ea commodo consequat. Duis aute irure dolor in reprehenderit in voluptate velit esse cillum dolore eu fugiat nulla pariatur. Excepteur sint occaecat cupidatat non proident, sunt in culpa qui officia deserunt mollit anim id est laborum.\n",
      "\n",
      "Curabitur pretium tincidunt lacus. Nulla gravida orci a odio. Nullam varius, turpis et commodo pharetra, est eros bibendum elit, nec luctus magna felis sollicitudin mauris. Integer in mauris eu nibh euismod gravida. Duis ac tellus et risus vulputate vehicula. Donec lobortis risus a elit. Etiam tempor. Ut ullamcorper, ligula eu tempor congue, eros est euismod turpis, id tincidunt sapien risus a quam. Maecenas fermentum consequat mi. Donec fermentum. Pellentesque malesuada nulla a mi. Duis sapien sem, aliquet nec, commodo eget, consequat quis, neque. Aliquam faucibus, elit ut dictum aliquet, felis nisl adipiscing sapien, sed malesuada diam lacus eget erat. Cras mollis scelerisque nunc. Nullam arcu. Aliquam consequat. Curabitur augue lorem, dapibus quis, laoreet et, pretium ac, nisi. Aenean magna nisl, mollis quis, molestie eu, feugiat in, orci. In hac habitasse platea dictumst.\n",
      "\n",
      "\n"
     ]
    }
   ],
   "source": [
    "cadena_de_texto = \"\"\"\n",
    "Lorem ipsum dolor sit amet, consectetur adipiscing elit, sed do eiusmod tempor incididunt ut labore et dolore magna aliqua. Ut enim ad minim veniam, quis nostrud exercitation ullamco laboris nisi ut aliquip ex ea commodo consequat. Duis aute irure dolor in reprehenderit in voluptate velit esse cillum dolore eu fugiat nulla pariatur. Excepteur sint occaecat cupidatat non proident, sunt in culpa qui officia deserunt mollit anim id est laborum.\n",
    "\n",
    "Curabitur pretium tincidunt lacus. Nulla gravida orci a odio. Nullam varius, turpis et commodo pharetra, est eros bibendum elit, nec luctus magna felis sollicitudin mauris. Integer in mauris eu nibh euismod gravida. Duis ac tellus et risus vulputate vehicula. Donec lobortis risus a elit. Etiam tempor. Ut ullamcorper, ligula eu tempor congue, eros est euismod turpis, id tincidunt sapien risus a quam. Maecenas fermentum consequat mi. Donec fermentum. Pellentesque malesuada nulla a mi. Duis sapien sem, aliquet nec, commodo eget, consequat quis, neque. Aliquam faucibus, elit ut dictum aliquet, felis nisl adipiscing sapien, sed malesuada diam lacus eget erat. Cras mollis scelerisque nunc. Nullam arcu. Aliquam consequat. Curabitur augue lorem, dapibus quis, laoreet et, pretium ac, nisi. Aenean magna nisl, mollis quis, molestie eu, feugiat in, orci. In hac habitasse platea dictumst.\n",
    "\n",
    "\"\"\"\n",
    "print(cadena_de_texto)"
   ]
  },
  {
   "cell_type": "code",
   "execution_count": 6,
   "metadata": {},
   "outputs": [
    {
     "name": "stdout",
     "output_type": "stream",
     "text": [
      "4\n",
      "Eduardo\n"
     ]
    }
   ],
   "source": [
    "print(enteros) # int\n",
    "enteros = decimales\n",
    "enteros = hijos\n",
    "enteros = casado\n",
    "enteros = nombre\n",
    "print(enteros)"
   ]
  },
  {
   "cell_type": "code",
   "execution_count": 13,
   "metadata": {},
   "outputs": [
    {
     "name": "stdout",
     "output_type": "stream",
     "text": [
      "Truty\n",
      "Falsy\n",
      "Falsy\n",
      "Falsy\n",
      "Truty\n",
      "Falsy\n",
      "Truty\n",
      "Falsy\n",
      "Truty\n",
      "Falsy\n",
      "Truty\n"
     ]
    }
   ],
   "source": [
    "# Condiciones\n",
    "# Truty - Falsy\n",
    "tuplas = (1,2,3) # Arreglos que no se puede modificar\n",
    "listas = [4,5,6] # Arreglos que se pueden modificar\n",
    "diccionario = {\n",
    "    \"nombre\":\"Benjamin\"\n",
    "}\n",
    "\n",
    "\n",
    "if ('Benjamin') :\n",
    "    #...\n",
    "    #...\n",
    "    print('Truty')\n",
    "else:\n",
    "    #...\n",
    "    #...\n",
    "    print('Falsy')\n",
    "if (''):\n",
    "    print('Truty')\n",
    "else:\n",
    "    print('Falsy')\n",
    "    \n",
    "nulo = None\n",
    "if (nulo): #Falsy\n",
    "    print('Truty')\n",
    "else:\n",
    "    print('Falsy')\n",
    "    \n",
    "if (0):\n",
    "    print('Truty')\n",
    "else:\n",
    "    print('Falsy')\n",
    "\n",
    "if (-1.2):\n",
    "    print('Truty')\n",
    "else:\n",
    "    print('Falsy')\n",
    "\n",
    "\n",
    "    \n",
    "#tuplas    \n",
    "if (()):\n",
    "    print('Truty')\n",
    "else:\n",
    "    print('Falsy') \n",
    "    \n",
    "if ((1,2,3,4)):\n",
    "    print('Truty')\n",
    "else:\n",
    "    print('Falsy')\n",
    "\n",
    "#listas\n",
    "if ([]):\n",
    "    print('Truty')\n",
    "else:\n",
    "    print('Falsy')\n",
    "\n",
    "if ([1,2,3]):\n",
    "    print('Truty')\n",
    "else:\n",
    "    print('Falsy')\n",
    "\n",
    "#diccionario  \n",
    "if ({}):\n",
    "    print('Truty')\n",
    "else:\n",
    "    print('Falsy')\n",
    "nombre = \"BEN\"\n",
    "if ({\n",
    "    nombre:\"Benjamin\"}):\n",
    "    print('Truty')\n",
    "else:\n",
    "    print('Falsy')"
   ]
  },
  {
   "cell_type": "code",
   "execution_count": 14,
   "metadata": {},
   "outputs": [],
   "source": [
    "arreglo = [1, 2, 3, 4, 5, 6, 7, 8, 9, 10]"
   ]
  },
  {
   "cell_type": "code",
   "execution_count": 31,
   "metadata": {},
   "outputs": [],
   "source": [
    "arreglo[0:3] # [0,3[\n",
    "arreglo[5:]  #hasta el final\n",
    "arreglo[:7]  #Desde el principio\n",
    "arreglo[-10] #Indice negativo empieza Final\n",
    "arreglo[3:-2]\n",
    "arreglo[-8:8]\n",
    "arreglo[-4:-1]\n",
    "arreglo[-7:]\n",
    "arreglo[:-3]\n",
    "arreglo[:]\n",
    "\n",
    "\n",
    "arreglo_tupla = (1, 2, 3, 4, 5, 6, 7, 8, 9, 10)"
   ]
  },
  {
   "cell_type": "code",
   "execution_count": 32,
   "metadata": {},
   "outputs": [
    {
     "data": {
      "text/plain": [
       "(6, 7, 8, 9)"
      ]
     },
     "execution_count": 32,
     "metadata": {},
     "output_type": "execute_result"
    }
   ],
   "source": [
    "arreglo_tupla[5:9]"
   ]
  },
  {
   "cell_type": "code",
   "execution_count": 39,
   "metadata": {},
   "outputs": [
    {
     "data": {
      "text/plain": [
       "'Carrion'"
      ]
     },
     "execution_count": 39,
     "metadata": {},
     "output_type": "execute_result"
    }
   ],
   "source": [
    "diccionario = {\n",
    "    \"nombre\":\"Benjamin\",\n",
    "    \"apellido\":\"Carrion\",\n",
    "    \"sueldo\":1.2\n",
    "}\n",
    "\n",
    "diccionario[\"sueldo\"]\n",
    "diccionario[\"apellido\"]"
   ]
  },
  {
   "cell_type": "code",
   "execution_count": 42,
   "metadata": {},
   "outputs": [
    {
     "data": {
      "text/plain": [
       "True"
      ]
     },
     "execution_count": 42,
     "metadata": {},
     "output_type": "execute_result"
    }
   ],
   "source": [
    "10.0 in arreglo"
   ]
  },
  {
   "cell_type": "code",
   "execution_count": 41,
   "metadata": {},
   "outputs": [
    {
     "name": "stdout",
     "output_type": "stream",
     "text": [
      "<class 'bool'>\n"
     ]
    }
   ],
   "source": [
    "print(type(12 in arreglo))"
   ]
  },
  {
   "cell_type": "code",
   "execution_count": 45,
   "metadata": {},
   "outputs": [
    {
     "data": {
      "text/plain": [
       "10"
      ]
     },
     "execution_count": 45,
     "metadata": {},
     "output_type": "execute_result"
    }
   ],
   "source": [
    "len(arreglo_tupla)\n",
    "len(diccionario)\n",
    "len(arreglo)"
   ]
  },
  {
   "cell_type": "code",
   "execution_count": 48,
   "metadata": {},
   "outputs": [
    {
     "data": {
      "text/plain": [
       "True"
      ]
     },
     "execution_count": 48,
     "metadata": {},
     "output_type": "execute_result"
    }
   ],
   "source": [
    "\"nombre\" in diccionario #Para diccionarios\n",
    "                        #Se debe trabajar con\n",
    "                        #las \"Llaves\" - \"keys\""
   ]
  },
  {
   "cell_type": "code",
   "execution_count": 52,
   "metadata": {},
   "outputs": [
    {
     "data": {
      "text/plain": [
       "['Juan', 2, 3, 4, 5, 6, 7, 8, 9, 10]"
      ]
     },
     "execution_count": 52,
     "metadata": {},
     "output_type": "execute_result"
    }
   ],
   "source": [
    "#arreglo_tupla[0] = 2\n",
    "arreglo[0] = \"Juan\"\n",
    "arreglo"
   ]
  },
  {
   "cell_type": "code",
   "execution_count": 53,
   "metadata": {},
   "outputs": [],
   "source": [
    "#arreglo.append\n",
    "#arreglo.pop\n",
    "#arreglo.insert"
   ]
  },
  {
   "cell_type": "code",
   "execution_count": 57,
   "metadata": {},
   "outputs": [
    {
     "name": "stdout",
     "output_type": "stream",
     "text": [
      "nombre\n",
      "apellido\n",
      "sueldo\n"
     ]
    }
   ],
   "source": [
    "for key in diccionario:\n",
    "    print(key)"
   ]
  },
  {
   "cell_type": "code",
   "execution_count": 58,
   "metadata": {
    "scrolled": true
   },
   "outputs": [
    {
     "name": "stdout",
     "output_type": "stream",
     "text": [
      "0\n",
      "1\n",
      "2\n",
      "3\n",
      "4\n",
      "5\n",
      "6\n",
      "7\n",
      "8\n",
      "9\n"
     ]
    }
   ],
   "source": [
    "contador = 0\n",
    "while contador < 10:\n",
    "    print(contador)\n",
    "    contador+= 1"
   ]
  },
  {
   "cell_type": "code",
   "execution_count": 59,
   "metadata": {},
   "outputs": [],
   "source": [
    "benjamin = {\n",
    "    True: \"\"\n",
    "}\n"
   ]
  },
  {
   "cell_type": "code",
   "execution_count": 64,
   "metadata": {},
   "outputs": [
    {
     "name": "stdout",
     "output_type": "stream",
     "text": [
      "<class 'dict_keys'>\n"
     ]
    }
   ],
   "source": [
    "print(type(diccionario.keys()))"
   ]
  },
  {
   "cell_type": "code",
   "execution_count": 61,
   "metadata": {},
   "outputs": [
    {
     "data": {
      "text/plain": [
       "dict_values(['Benjamin', 'Carrion', 1.2])"
      ]
     },
     "execution_count": 61,
     "metadata": {},
     "output_type": "execute_result"
    }
   ],
   "source": [
    "diccionario.values()"
   ]
  },
  {
   "cell_type": "code",
   "execution_count": null,
   "metadata": {},
   "outputs": [],
   "source": []
  },
  {
   "cell_type": "code",
   "execution_count": 4,
   "metadata": {},
   "outputs": [
    {
     "data": {
      "text/plain": [
       "2"
      ]
     },
     "execution_count": 4,
     "metadata": {},
     "output_type": "execute_result"
    }
   ],
   "source": []
  },
  {
   "cell_type": "code",
   "execution_count": 5,
   "metadata": {},
   "outputs": [],
   "source": []
  },
  {
   "cell_type": "code",
   "execution_count": 6,
   "metadata": {},
   "outputs": [
    {
     "data": {
      "text/plain": [
       "'Jhonf'"
      ]
     },
     "execution_count": 6,
     "metadata": {},
     "output_type": "execute_result"
    }
   ],
   "source": []
  },
  {
   "cell_type": "code",
   "execution_count": null,
   "metadata": {},
   "outputs": [],
   "source": []
  }
 ],
 "metadata": {
  "kernelspec": {
   "display_name": "Python 3",
   "language": "python",
   "name": "python3"
  },
  "language_info": {
   "codemirror_mode": {
    "name": "ipython",
    "version": 3
   },
   "file_extension": ".py",
   "mimetype": "text/x-python",
   "name": "python",
   "nbconvert_exporter": "python",
   "pygments_lexer": "ipython3",
   "version": "3.7.6"
  }
 },
 "nbformat": 4,
 "nbformat_minor": 4
}
